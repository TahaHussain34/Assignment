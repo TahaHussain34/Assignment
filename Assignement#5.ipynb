{
 "cells": [
  {
   "cell_type": "code",
   "execution_count": 13,
   "metadata": {},
   "outputs": [
    {
     "name": "stdout",
     "output_type": "stream",
     "text": [
      "Enter the Number 6\n",
      "720\n"
     ]
    }
   ],
   "source": [
    "#Task No .1\n",
    "num = int(input('Enter the Number '))\n",
    "def factorial(num):\n",
    "    fac = 1\n",
    "    for i in range(1,num+1): \n",
    "        fac = fac * i \n",
    "    print(fac)\n",
    "factorial(num)"
   ]
  },
  {
   "cell_type": "code",
   "execution_count": 18,
   "metadata": {},
   "outputs": [
    {
     "name": "stdout",
     "output_type": "stream",
     "text": [
      "Enter a Sentence HeLlo WorLd\n",
      "The Number of UpperCase Letters is:  4\n",
      "The Number of LowerCase Letters is:  6\n"
     ]
    }
   ],
   "source": [
    "#task No.2\n",
    "string = input('Enter a Sentence ')\n",
    "def uplow(string):\n",
    "    ucount = 0\n",
    "    lcount = 0\n",
    "    for i in string:\n",
    "        if i.isupper():\n",
    "            ucount +=1\n",
    "        elif i.islower():\n",
    "            lcount +=1\n",
    "    \n",
    "    print('The Number of UpperCase Letters is: ', ucount)\n",
    "    print('The Number of LowerCase Letters is: ', lcount)\n",
    "uplow(string)\n",
    "    "
   ]
  },
  {
   "cell_type": "code",
   "execution_count": 30,
   "metadata": {},
   "outputs": [
    {
     "name": "stdout",
     "output_type": "stream",
     "text": [
      "[2, 4, 6, 8, 10]\n"
     ]
    }
   ],
   "source": [
    "#Task No.3\n",
    "li = [1,2,3,4,5,6,7,8,9,10]\n",
    "def iseven():\n",
    "    ev = [x for x in li if x%2 == 0]\n",
    "    print(ev)\n",
    "even()\n"
   ]
  },
  {
   "cell_type": "code",
   "execution_count": 31,
   "metadata": {},
   "outputs": [
    {
     "name": "stdout",
     "output_type": "stream",
     "text": [
      "Enter a Word pop\n",
      "This word is Palindrome\n"
     ]
    }
   ],
   "source": [
    "#Task No.4\n",
    "word = input('Enter a Word ')\n",
    "def ispal(word):\n",
    "    rev = word[::-1]\n",
    "    if word == rev:\n",
    "        print('This word is Palindrome')\n",
    "    else:\n",
    "        print('This word is not Palindrome')\n",
    "pal(word)\n",
    "    "
   ]
  },
  {
   "cell_type": "code",
   "execution_count": 37,
   "metadata": {},
   "outputs": [
    {
     "name": "stdout",
     "output_type": "stream",
     "text": [
      "Enter the Number 31\n",
      "The Number is Prime\n"
     ]
    }
   ],
   "source": [
    "#Task No.5\n",
    "num = int(input('Enter the Number '))\n",
    "def isprime(num):\n",
    "    if num > 1:\n",
    "        for i in range(2, num):\n",
    "            if num%i == 0:\n",
    "                print('The Number is not Prime')\n",
    "                break\n",
    "            else:\n",
    "                print('The Number is Prime')\n",
    "                break\n",
    "    else:\n",
    "        print('The Number is not Prime')\n",
    "isprime(num)"
   ]
  },
  {
   "cell_type": "code",
   "execution_count": 58,
   "metadata": {},
   "outputs": [
    {
     "name": "stdout",
     "output_type": "stream",
     "text": [
      "1.Add\n",
      "2.Exit\n",
      "Enter your choice 1\n",
      "Enter the item name Apple\n",
      "1.Add\n",
      "2.Exit\n",
      "Enter your choice 1\n",
      "Enter the item name Orange\n",
      "1.Add\n",
      "2.Exit\n",
      "Enter your choice 1\n",
      "Enter the item name Banana\n",
      "1.Add\n",
      "2.Exit\n",
      "Enter your choice 2\n",
      "['Apple', 'Orange', 'Banana']\n"
     ]
    }
   ],
   "source": [
    "#Task No.6\n",
    "def it(*items):\n",
    "    items = []\n",
    "    cond = True\n",
    "    while cond:\n",
    "        print('1.Add'+'\\n'+'2.Exit')\n",
    "        choice = input('Enter your choice ')\n",
    "        if choice == '1':\n",
    "            item = input('Enter the item name ')\n",
    "            items.append(item)\n",
    "        elif choice == '2':\n",
    "            cond = False\n",
    "    print(items)\n",
    "it(*items)\n",
    "    "
   ]
  },
  {
   "cell_type": "code",
   "execution_count": 59,
   "metadata": {},
   "outputs": [
    {
     "name": "stdout",
     "output_type": "stream",
     "text": [
      "Enter the operation add\n",
      "Enter the item name apple\n",
      "['apple']\n",
      "Enter the operation add\n",
      "Enter the item name Banana\n",
      "['apple', 'Banana']\n",
      "Enter the operation add\n",
      "Enter the item name orange\n",
      "['apple', 'Banana', 'orange']\n",
      "Enter the operation delete\n",
      "Enter the item name Banana\n",
      "['apple', 'orange']\n",
      "Enter the operation close\n"
     ]
    }
   ],
   "source": [
    "#Todo App\n",
    "todo=[]\n",
    "cond=True\n",
    "while cond:\n",
    "    operation=input(\"Enter the operation \")\n",
    "#Adding the specified item\n",
    "    if operation==\"add\":\n",
    "        item=input('Enter the item name ')\n",
    "        todo.append(item)\n",
    "        print(todo)\n",
    "#Deleting the specified item\n",
    "    elif operation==\"delete\":\n",
    "        item=input('Enter the item name ')\n",
    "        todo.remove(item)\n",
    "        print(todo)\n",
    "#Deleting all the items\n",
    "    elif operation==\"delete all\":\n",
    "        todo=[]\n",
    "        print(todo)\n",
    "#For closing the application\n",
    "    elif operation==\"close\":\n",
    "        cond=False\n",
    "    else:\n",
    "        print(\"You Entered wrong operation, please try again \")\n",
    "        "
   ]
  },
  {
   "cell_type": "code",
   "execution_count": null,
   "metadata": {},
   "outputs": [],
   "source": []
  }
 ],
 "metadata": {
  "kernelspec": {
   "display_name": "Python 3",
   "language": "python",
   "name": "python3"
  },
  "language_info": {
   "codemirror_mode": {
    "name": "ipython",
    "version": 3
   },
   "file_extension": ".py",
   "mimetype": "text/x-python",
   "name": "python",
   "nbconvert_exporter": "python",
   "pygments_lexer": "ipython3",
   "version": "3.7.4"
  }
 },
 "nbformat": 4,
 "nbformat_minor": 2
}
