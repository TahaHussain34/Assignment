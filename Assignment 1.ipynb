{
 "cells": [
  {
   "cell_type": "code",
   "execution_count": 3,
   "metadata": {},
   "outputs": [
    {
     "name": "stdout",
     "output_type": "stream",
     "text": [
      "Twinkle, twinkle, little star,\n",
      " \tHow I wonder what you are!\n",
      " \t \tUp above the world so high,\n",
      " \t \tLike a diamond in the sky.\n",
      "Twinkle, twinkle, little star,\n",
      " \tHow I wonder what you are!\n"
     ]
    }
   ],
   "source": [
    "a=('Twinkle, twinkle, little star,')\n",
    "b=('How I wonder what you are!')\n",
    "c=('Up above the world so high,')\n",
    "d=('Like a diamond in the sky.')\n",
    "e=(a + \"\\n \\t\" + b + \"\\n \\t \\t\" + c + \"\\n \\t \\t\" + d + \"\\n\" + a + \"\\n \\t\" + b)\n",
    "print(e)"
   ]
  },
  {
   "cell_type": "code",
   "execution_count": 9,
   "metadata": {},
   "outputs": [
    {
     "name": "stdout",
     "output_type": "stream",
     "text": [
      "python version:\n",
      "3.7.4 (default, Aug  9 2019, 18:34:13) [MSC v.1915 64 bit (AMD64)]\n"
     ]
    }
   ],
   "source": [
    "import sys\n",
    "print(\"python version:\")\n",
    "print (sys.version)"
   ]
  },
  {
   "cell_type": "code",
   "execution_count": 26,
   "metadata": {},
   "outputs": [
    {
     "name": "stdout",
     "output_type": "stream",
     "text": [
      "now = 2019-10-31 16:55:52.134312\n"
     ]
    }
   ],
   "source": [
    "from datetime import datetime\n",
    "now = datetime.now()\n",
    "print(\"now =\", now)"
   ]
  },
  {
   "cell_type": "code",
   "execution_count": 29,
   "metadata": {},
   "outputs": [
    {
     "name": "stdout",
     "output_type": "stream",
     "text": [
      "Enter the value 5\n",
      "Area of Circle =  78.53981633974483\n"
     ]
    }
   ],
   "source": [
    "import math\n",
    "r=float(input(\"Enter the value \"))\n",
    "area = math.pi*r*r\n",
    "print(\"Area of Circle = \", area)"
   ]
  },
  {
   "cell_type": "code",
   "execution_count": 30,
   "metadata": {},
   "outputs": [
    {
     "name": "stdout",
     "output_type": "stream",
     "text": [
      "Baloch Taha Hussain\n"
     ]
    }
   ],
   "source": [
    "firstName =\"Taha Hussain\"\n",
    "lastName=\"Baloch\"\n",
    "Reverse= lastName + \" \" + firstName\n",
    "print(Reverse)"
   ]
  },
  {
   "cell_type": "code",
   "execution_count": 33,
   "metadata": {},
   "outputs": [
    {
     "name": "stdout",
     "output_type": "stream",
     "text": [
      "Enter the First value 6\n",
      "Enter the Second value 7\n",
      "The sum of numbers =  13\n"
     ]
    }
   ],
   "source": [
    "f= int(input(\"Enter the First value \"))\n",
    "g= int(input(\"Enter the Second value \"))\n",
    "h= f+g\n",
    "print(\"The sum of numbers = \",h)"
   ]
  },
  {
   "cell_type": "code",
   "execution_count": null,
   "metadata": {},
   "outputs": [],
   "source": []
  }
 ],
 "metadata": {
  "kernelspec": {
   "display_name": "Python 3",
   "language": "python",
   "name": "python3"
  },
  "language_info": {
   "codemirror_mode": {
    "name": "ipython",
    "version": 3
   },
   "file_extension": ".py",
   "mimetype": "text/x-python",
   "name": "python",
   "nbconvert_exporter": "python",
   "pygments_lexer": "ipython3",
   "version": "3.7.4"
  }
 },
 "nbformat": 4,
 "nbformat_minor": 2
}
