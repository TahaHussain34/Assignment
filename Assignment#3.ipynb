{
 "cells": [
  {
   "cell_type": "code",
   "execution_count": 2,
   "metadata": {},
   "outputs": [
    {
     "name": "stdout",
     "output_type": "stream",
     "text": [
      "Enter First value : 5\n",
      "Enter second value : 3\n",
      "Select operator^\n",
      "answer is  125.0\n"
     ]
    }
   ],
   "source": [
    "#Task No.1\n",
    "val1=float(input('Enter First value : '))\n",
    "val2=float(input('Enter second value : '))\n",
    "op=input('Select operator')\n",
    "if op=='+':\n",
    "    val=val1+val2\n",
    "    print('answer is ',val)\n",
    "elif op=='-':\n",
    "    val=val1-val2\n",
    "    print('answer is ',val)\n",
    "elif op=='*':\n",
    "    val=val1*val2\n",
    "    print('answer is ',val)\n",
    "elif op=='/':\n",
    "    val=val1/val2\n",
    "    print('answer is ',val)\n",
    "elif op=='^':\n",
    "    val=val1**val2\n",
    "    print('answer is ', val)\n",
    "    \n",
    "else:\n",
    "    print('Enter correct operator')"
   ]
  },
  {
   "cell_type": "code",
   "execution_count": 38,
   "metadata": {},
   "outputs": [
    {
     "name": "stdout",
     "output_type": "stream",
     "text": [
      "numeric values in the list are :  [2, 7, 9, 8]\n"
     ]
    }
   ],
   "source": [
    "#Task No. 2\n",
    "li=[2,\"taha\",7,9,\"baloch\",8]\n",
    "num = [x for x in li if isinstance(x, int)]\n",
    "print(\"numeric values in the list are : \",num)"
   ]
  },
  {
   "cell_type": "code",
   "execution_count": 8,
   "metadata": {},
   "outputs": [
    {
     "name": "stdout",
     "output_type": "stream",
     "text": [
      "{'first_name': 1, 'last_name': 2, 3: 'Jamshoro', 4: 'Pakistan'}\n"
     ]
    }
   ],
   "source": [
    "#Task No. 3\n",
    "Taha={\"first_name\":1,\"last_name\":2,3:\"Jamshoro\"}\n",
    "Taha[4]=\"Pakistan\"\n",
    "print(Taha)"
   ]
  },
  {
   "cell_type": "code",
   "execution_count": 42,
   "metadata": {},
   "outputs": [
    {
     "name": "stdout",
     "output_type": "stream",
     "text": [
      "Sum of numeric values is  6\n"
     ]
    }
   ],
   "source": [
    "#Task No. 4\n",
    "Taha={\"first_name\":1,\"last_name\":5,4:\"Jamshoro\"}\n",
    "k = sum([x for x in Taha.values() if isinstance(x, int)])\n",
    "print(\"Sum of numeric values is \",k)"
   ]
  },
  {
   "cell_type": "code",
   "execution_count": 61,
   "metadata": {},
   "outputs": [
    {
     "name": "stdout",
     "output_type": "stream",
     "text": [
      "Repeated values are  [1, 3, 5]\n"
     ]
    }
   ],
   "source": [
    "#Task No. 5\n",
    "x=[1,2,3,1,3,5,5]\n",
    "size = len(x) \n",
    "rep = [] \n",
    "for i in range(size): \n",
    "    k = i + 1\n",
    "    for j in range(k, size): \n",
    "        if x[i] == x[j] and x[i] not in rep: \n",
    "            rep.append(x[i])\n",
    "print(\"Repeated values are \",rep)"
   ]
  },
  {
   "cell_type": "code",
   "execution_count": 63,
   "metadata": {},
   "outputs": [
    {
     "name": "stdout",
     "output_type": "stream",
     "text": [
      "Key is present in the dictionary\n"
     ]
    }
   ],
   "source": [
    "#Task No. 6\n",
    "Taha={\"first_name\":1,\"last_name\":5,4:\"Jamshoro\"}\n",
    "x=\"first_name\"\n",
    "if x in Taha:\n",
    "  print('Key is present in the dictionary')\n",
    "else:\n",
    "  print('Key is not present in the dictionary')"
   ]
  },
  {
   "cell_type": "code",
   "execution_count": null,
   "metadata": {},
   "outputs": [],
   "source": []
  }
 ],
 "metadata": {
  "kernelspec": {
   "display_name": "Python 3",
   "language": "python",
   "name": "python3"
  },
  "language_info": {
   "codemirror_mode": {
    "name": "ipython",
    "version": 3
   },
   "file_extension": ".py",
   "mimetype": "text/x-python",
   "name": "python",
   "nbconvert_exporter": "python",
   "pygments_lexer": "ipython3",
   "version": "3.7.4"
  }
 },
 "nbformat": 4,
 "nbformat_minor": 2
}
