{
 "cells": [
  {
   "cell_type": "code",
   "execution_count": 2,
   "metadata": {},
   "outputs": [
    {
     "name": "stdout",
     "output_type": "stream",
     "text": [
      "{'first_name': 'Taha', 'last_name': 'Baloch', 'age': '22yrs', 'city': 'Jamshoro'}\n",
      "{'first_name': 'Taha', 'last_name': 'Baloch', 'age': '22yrs', 'city': 'Jamshoro', 'qualification': 'Bachelors'}\n"
     ]
    }
   ],
   "source": [
    "#Task No.1\n",
    "info={\"first_name\":\"Taha\",\"last_name\":\"Baloch\",\"age\":\"22yrs\",\"city\":\"Jamshoro\"}\n",
    "print(info)\n",
    "info[\"qualification\"]=\"Bachelors\"\n",
    "print(info)"
   ]
  },
  {
   "cell_type": "code",
   "execution_count": 6,
   "metadata": {},
   "outputs": [
    {
     "name": "stdout",
     "output_type": "stream",
     "text": [
      "Select city : karachi, newyork, toronto \n",
      "\n",
      "Enter city name karachi\n",
      "{'country': 'Pakistan', 'population': '15,741,000', 'fact': 'Karachi is among the cheapest city to live in.'}\n"
     ]
    }
   ],
   "source": [
    "#Task No. 2\n",
    "cities={\n",
    "    \"karachi\": {\n",
    "        \"country\":\"Pakistan\",\n",
    "        \"population\":\"15,741,000\",\n",
    "        \"fact\":\"Karachi is among the cheapest city to live in.\"\n",
    "    },\n",
    "    \"newyork\": {\n",
    "        \"country\":\"USA\",\n",
    "        \"population\":\"8.623 million\",\n",
    "        \"fact\":\"The Empire State building gets hit by lightning about 23 times per year.\"\n",
    "    },\n",
    "    \"toronto\": {\n",
    "        \"country\":\"Canada\",\n",
    "        \"population\":\"2.93 million\",\n",
    "        \"fact\":\"Toronto is the fifth largest city in North America.\"\n",
    "    }\n",
    "}\n",
    "print(\"Select city : karachi, newyork, toronto \\n\")\n",
    "print(cities[input(\"Enter city name \")])"
   ]
  },
  {
   "cell_type": "code",
   "execution_count": 11,
   "metadata": {},
   "outputs": [
    {
     "name": "stdout",
     "output_type": "stream",
     "text": [
      "Enter your age 1\n",
      "The Ticket is free\n",
      "\n",
      " If you would like to check the price for another person please enter their age now or type \"quit\" to exit\n",
      "Enter your age 7\n",
      "The Ticket is $10\n",
      "\n",
      " If you would like to check the price for another person please enter their age now or type \"quit\" to exit\n",
      "Enter your age 15\n",
      "The Ticket is $15\n",
      "\n",
      " If you would like to check the price for another person please enter their age now or type \"quit\" to exit\n",
      "Enter your age quit\n"
     ]
    }
   ],
   "source": [
    "#Task No.3\n",
    "while True:\n",
    "    age=input(\"Enter your age \")\n",
    "    if age==\"quit\":\n",
    "        break\n",
    "    age=int(age)\n",
    "    if age<3:\n",
    "        print(\"The Ticket is free\")\n",
    "        print('\\n If you would like to check the price for another person please enter their age now or type \"quit\" to exit')\n",
    "    elif age>=3 and int(age)<=12:\n",
    "        print(\"The Ticket is $10\")\n",
    "        print('\\n If you would like to check the price for another person please enter their age now or type \"quit\" to exit')\n",
    "    elif age>12:\n",
    "        print(\"The Ticket is $15\")\n",
    "        print('\\n If you would like to check the price for another person please enter their age now or type \"quit\" to exit')\n",
    "    else:\n",
    "        print(\"input not recognized\")\n",
    "        break"
   ]
  },
  {
   "cell_type": "code",
   "execution_count": 4,
   "metadata": {},
   "outputs": [
    {
     "name": "stdout",
     "output_type": "stream",
     "text": [
      "My favorite book name is  Alchemist\n"
     ]
    }
   ],
   "source": [
    "#Task No. 4\n",
    "def favorite_book(title):\n",
    "    print(\"My favorite book name is \",title)\n",
    "favorite_book(\"Alchemist\")"
   ]
  },
  {
   "cell_type": "code",
   "execution_count": 10,
   "metadata": {},
   "outputs": [
    {
     "name": "stdout",
     "output_type": "stream",
     "text": [
      "Take a guess 5\n",
      "oops! you guessed the wrong number, the correct answer is greater than actual number \n",
      "\n",
      "Take a guess 20\n",
      "oops! you guessed the wrong number, the correct answer is greater than actual number \n",
      "\n",
      "Take a guess 23\n",
      "oops! you guessed the wrong number, the correct answer is greater than actual number \n",
      "\n",
      "Sorry, you guessed it wrong everytime.\n",
      "The Correct Number is  29\n"
     ]
    }
   ],
   "source": [
    "#Task No.5\n",
    "import random\n",
    "count=0\n",
    "value = random.randint(1, 30)\n",
    "while count<3:\n",
    "    ans=int(input(\"Take a guess \"))\n",
    "    count=count+1\n",
    "    if ans<value:\n",
    "        print(\"oops! you guessed the wrong number, the correct answer is greater than actual number \\n\")\n",
    "    if ans>value:\n",
    "        print(\"oops! you guessed the wrong number, the correct answer is less than actual number \\n\")\n",
    "    if ans==value:\n",
    "        count=str(count)\n",
    "        print(\"yass! you guessed right number in \" + count + \" guesses \\n\" )\n",
    "        break\n",
    "if ans!=value:\n",
    "    print(\"Sorry, you guessed it wrong everytime.\")\n",
    "    print(\"The Correct Number is \",value)"
   ]
  },
  {
   "cell_type": "code",
   "execution_count": 8,
   "metadata": {},
   "outputs": [
    {
     "name": "stdout",
     "output_type": "stream",
     "text": [
      "1: Who is the current prime minister of pakistan?\n",
      " Please Write the correct answer in the input field\n",
      " \tNawaz sharif\n",
      " \tAsif zardari\n",
      " \tImran khan\n",
      " \tZulfiqar Ali Bhutto\n",
      " \tYour Answer is:Imran khan\n",
      "Hurrah! Right Answer\n",
      "2: What is Capital City of USA?\n",
      " Please Write the correct answer in the input field\n",
      " \tNew York\n",
      " \tWashington DC\n",
      " \tKhatmandu\n",
      " \tCalifornia\n",
      " \tYour Answer is:Washington DC\n",
      "Hurrah! Right Answer\n",
      "3: Who is half blood prince in harry potter?\n",
      " Please Write the correct answer in the input field\n",
      " \tRon Weasley\n",
      " \tHarry Potter\n",
      " \tDumbledore\n",
      " \tSnape\n",
      " \tYour Answer is:Snape\n",
      "Hurrah! Right Answer\n",
      "\n",
      " Your Score is : 30\n"
     ]
    }
   ],
   "source": [
    "#Quiz App\n",
    "quiz=[\n",
    "    {\n",
    "        \"S.No\":1,\n",
    "        \"Question\":\"Who is the current prime minister of pakistan?\",\n",
    "        \"Options\":[\"Nawaz sharif\",\"Asif zardari\",\"Imran khan\",\"Zulfiqar Ali Bhutto\"],\n",
    "        \"Answer\":\"Imran khan\"\n",
    "    },\n",
    "    {\n",
    "        \"S.No\":2,\n",
    "        \"Question\":\"What is Capital City of USA?\",\n",
    "        \"Options\":[\"New York\",\"Washington DC\",\"Khatmandu\",\"California\"],\n",
    "        \"Answer\":\"Washington DC\"\n",
    "    },\n",
    "    {\n",
    "        \"S.No\":3,\n",
    "        \"Question\":\"Who is half blood prince in harry potter?\",\n",
    "        \"Options\":[\"Ron Weasley\",\"Harry Potter\",\"Dumbledore\",\"Snape\"],\n",
    "        \"Answer\":\"Snape\"\n",
    "    }\n",
    "]\n",
    "Score=0\n",
    "for question in quiz:\n",
    "    data = str(question[\"S.No\"]) + \": \"+question[\"Question\"]+\"\\n Please Write the correct answer in the input field\"+\"\\n \\t\"+question[\"Options\"][0]+\"\\n \\t\"+question[\"Options\"][1]+\"\\n \\t\"+question[\"Options\"][2]+\"\\n \\t\"+question[\"Options\"][3]+\"\\n \\t\"+\"Your Answer is:\"\n",
    "    answer=input(data)\n",
    "    if answer == question[\"Answer\"]:\n",
    "        print(\"Hurrah! Right Answer\")\n",
    "        Score+=10\n",
    "    else:\n",
    "        print(\"Oooops! Wrong Answer\")\n",
    "        \n",
    "print(\"\\n Your Score is :\",Score)\n"
   ]
  },
  {
   "cell_type": "code",
   "execution_count": null,
   "metadata": {},
   "outputs": [],
   "source": []
  }
 ],
 "metadata": {
  "kernelspec": {
   "display_name": "Python 3",
   "language": "python",
   "name": "python3"
  },
  "language_info": {
   "codemirror_mode": {
    "name": "ipython",
    "version": 3
   },
   "file_extension": ".py",
   "mimetype": "text/x-python",
   "name": "python",
   "nbconvert_exporter": "python",
   "pygments_lexer": "ipython3",
   "version": "3.7.4"
  }
 },
 "nbformat": 4,
 "nbformat_minor": 2
}
