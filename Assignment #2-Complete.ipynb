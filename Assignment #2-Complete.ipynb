{
 "cells": [
  {
   "cell_type": "code",
   "execution_count": 3,
   "metadata": {},
   "outputs": [
    {
     "name": "stdout",
     "output_type": "stream",
     "text": [
      "Enter the marks of English out of 100= 76\n",
      "Enter the marks of Mathematics out of 100= 58\n",
      "Enter the marks of Physics out of 100= 88\n",
      "Enter the marks of Chemistry out of 100= 67\n",
      "Enter the marks of Computer out of 100= 79\n",
      "total obtained marks out of 500=  368\n",
      "Obtained Percentage=  73.6 %\n",
      "A grade\n"
     ]
    }
   ],
   "source": [
    "# Task No.1\n",
    "eng=int(input(\"Enter the marks of English out of 100= \"))\n",
    "mat=int(input(\"Enter the marks of Mathematics out of 100= \"))\n",
    "phy=int(input(\"Enter the marks of Physics out of 100= \"))\n",
    "che=int(input(\"Enter the marks of Chemistry out of 100= \"))\n",
    "com=int(input(\"Enter the marks of Computer out of 100= \"))\n",
    "obt=eng+mat+phy+che+com;\n",
    "print(\"total obtained marks out of 500= \", obt)\n",
    "per = (obt/500)*100;\n",
    "print(\"Obtained Percentage= \",per,\"%\")\n",
    "if per >= 80:\n",
    "    print(\"A+ grade\")\n",
    "elif per >=70 and per <80 :\n",
    "    print(\"A grade\")\n",
    "elif per >=60 and per <70:\n",
    "    print(\"B grade\")\n",
    "elif per >=50 and per <60:\n",
    "    print(\"C grade\")\n",
    "elif per >=40 and per <50:\n",
    "    print(\"D grade\")\n",
    "elif per >=33 and per <40:\n",
    "    print(\"E grade\")\n",
    "elif per >=0 and per <33:\n",
    "    print(\"Fail\")\n",
    "else:\n",
    "    print(\"You have entered inappropriate percentage\")"
   ]
  },
  {
   "cell_type": "code",
   "execution_count": 7,
   "metadata": {},
   "outputs": [
    {
     "name": "stdout",
     "output_type": "stream",
     "text": [
      "Enter the number: 13679\n",
      "The number is odd\n"
     ]
    }
   ],
   "source": [
    "# Task No.2 \n",
    "a=int(input(\"Enter the number: \"))\n",
    "if a%2 == 0:\n",
    "    print(\"The number is even\")\n",
    "else :\n",
    "    print(\"The number is odd\")"
   ]
  },
  {
   "cell_type": "code",
   "execution_count": 11,
   "metadata": {},
   "outputs": [
    {
     "name": "stdout",
     "output_type": "stream",
     "text": [
      "The Length of the list=  6\n"
     ]
    }
   ],
   "source": [
    "# Task No. 3 \n",
    "li=[2,6,7,9,5,8]\n",
    "print(\"The Length of the list= \",len(li))"
   ]
  },
  {
   "cell_type": "code",
   "execution_count": 15,
   "metadata": {},
   "outputs": [
    {
     "name": "stdout",
     "output_type": "stream",
     "text": [
      "Sum of the numeric values in the list:  26\n"
     ]
    }
   ],
   "source": [
    "# Task No. 4\n",
    "li=[2,\"taha\",7,9,\"baloch\",8]\n",
    "res = sum([x for x in li if isinstance(x, int)])\n",
    "print(\"Sum of the numeric values in the list: \",res)"
   ]
  },
  {
   "cell_type": "code",
   "execution_count": 27,
   "metadata": {},
   "outputs": [
    {
     "name": "stdout",
     "output_type": "stream",
     "text": [
      "Largest Number in the list is  16\n"
     ]
    }
   ],
   "source": [
    "# Task No. 5\n",
    "li=[2,7,9,8,16,5]\n",
    "li.sort()\n",
    "print(\"Largest Number in the list is \",li[-1])"
   ]
  },
  {
   "cell_type": "code",
   "execution_count": 29,
   "metadata": {},
   "outputs": [
    {
     "name": "stdout",
     "output_type": "stream",
     "text": [
      "Numbers less than 5 in the list  [1, 1, 2, 3]\n"
     ]
    }
   ],
   "source": [
    "# Task No.6\n",
    "a = [1, 1, 2, 3, 5, 8, 13, 21, 34, 55, 89]\n",
    "lt5=[x for x in a if x<5]\n",
    "print(\"Numbers less than 5 in the list \",lt5)"
   ]
  },
  {
   "cell_type": "code",
   "execution_count": null,
   "metadata": {},
   "outputs": [],
   "source": []
  }
 ],
 "metadata": {
  "kernelspec": {
   "display_name": "Python 3",
   "language": "python",
   "name": "python3"
  },
  "language_info": {
   "codemirror_mode": {
    "name": "ipython",
    "version": 3
   },
   "file_extension": ".py",
   "mimetype": "text/x-python",
   "name": "python",
   "nbconvert_exporter": "python",
   "pygments_lexer": "ipython3",
   "version": "3.7.4"
  }
 },
 "nbformat": 4,
 "nbformat_minor": 2
}
