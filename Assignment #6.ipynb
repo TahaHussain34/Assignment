{
 "cells": [
  {
   "cell_type": "code",
   "execution_count": 3,
   "metadata": {},
   "outputs": [
    {
     "name": "stdout",
     "output_type": "stream",
     "text": [
      "What is Object Oriented Programming?\n",
      "\n",
      "Object-oriented programming (OOP) is a programming language model in which programs are organized around data or objects, rather than functions and logic. An object can be defined as a data field that has unique attributes and behavior\n"
     ]
    }
   ],
   "source": [
    "#Question No. 1\n",
    "print('What is Object Oriented Programming?\\n')\n",
    "print('Object-oriented programming (OOP) is a programming language model in which programs are organized around data '\n",
    "      'or objects, rather than functions and logic. An object can be defined as a data field that has unique attributes and behavior')"
   ]
  },
  {
   "cell_type": "code",
   "execution_count": 6,
   "metadata": {},
   "outputs": [
    {
     "name": "stdout",
     "output_type": "stream",
     "text": [
      "Benifits of OOP: \n",
      "\n",
      "1. It provides a clear modular structure for programs.\n",
      "2. Objects can also be reused within an across applications.\n",
      "3. It makes software easier to maintain.\n",
      "4. Reuse also enables faster development.\n",
      "5. It provides a good framework for code libraries where the supplied software components can be easily adapted and modified by the programmer.\n",
      "6. Better Productivity.\n"
     ]
    }
   ],
   "source": [
    "#Question No.2\n",
    "print('Benifits of OOP: \\n')\n",
    "benifits = {\n",
    "    1: 'It provides a clear modular structure for programs.',\n",
    "    2: 'Objects can also be reused within an across applications.',\n",
    "    3: 'It makes software easier to maintain.',\n",
    "    4: 'Reuse also enables faster development.',\n",
    "    5: 'It provides a good framework for code libraries where the supplied software components can be easily adapted and modified by the programmer.',\n",
    "    6: 'Better Productivity.'\n",
    "}\n",
    "for keys, values in benifits.items():\n",
    "    print(\"{}. {}\".format(keys, values))\n",
    "    "
   ]
  },
  {
   "cell_type": "code",
   "execution_count": 7,
   "metadata": {},
   "outputs": [
    {
     "name": "stdout",
     "output_type": "stream",
     "text": [
      "Difference Between Functions and Methods: \n",
      "\n",
      "Basically, Functions and Methods are similar. All data that is passed to a function is explicitly passed and method is implicitly passed the object on which it was called. A method is able to operate on data that is contained within the class\n"
     ]
    }
   ],
   "source": [
    "#Question No. 3\n",
    "print('Difference Between Functions and Methods: \\n')\n",
    "print('Basically, Functions and Methods are similar. All data that is passed to a function is explicitly passed and'\n",
    "      ' method is implicitly passed the object on which it was called. A method is able to operate on data that is'\n",
    "      ' contained within the class')"
   ]
  },
  {
   "cell_type": "code",
   "execution_count": 10,
   "metadata": {},
   "outputs": [
    {
     "name": "stdout",
     "output_type": "stream",
     "text": [
      "Terms used in OOP: \n",
      "\n",
      "Class: A class is a code template for creating objects.\n",
      "\n",
      "Object: Object is simply a collection of data (variables) and methods (functions) that act on those data.\n",
      "\n",
      "Attribute: It is also called an Instance. Object attribute is a variable that belongs to one (and only one) object.\n",
      "\n",
      "Behavior: Behavior binds the structure of objects to their attributes and relationships so that objects can meet their responsibilities. Ultimately, an object's operations implement its behavior.\n",
      "\n"
     ]
    }
   ],
   "source": [
    "#Question No. 4\n",
    "print('Terms used in OOP: \\n')\n",
    "terms = {\n",
    "    'Class': 'A class is a code template for creating objects.',\n",
    "    'Object': 'Object is simply a collection of data (variables) and methods (functions) that act on those data.',\n",
    "    'Attribute': 'It is also called an Instance. Object attribute is a variable that belongs to one (and only one) object.',\n",
    "    'Behavior': \"Behavior binds the structure of objects to their attributes and relationships so that objects can meet their\"\n",
    "    \" responsibilities. Ultimately, an object's operations implement its behavior.\"\n",
    "}\n",
    "for keys, values in terms.items():\n",
    "    print(\"{}: {}\\n\".format(keys, values))"
   ]
  },
  {
   "cell_type": "code",
   "execution_count": 27,
   "metadata": {},
   "outputs": [
    {
     "name": "stdout",
     "output_type": "stream",
     "text": [
      "Lancer Evo X :\n",
      "This Car has a Good HP in 4 cylinder cars\n",
      "This is a Modern Car\n",
      "This Car is suitable for racing.\n",
      "\n",
      " Honda Civic 1.8 Oriel :\n",
      "This Car has an Okay HP in 4 cylinder cars\n",
      "This is a Modern Car\n",
      "This Car is not suitable for a racing.\n",
      "\n",
      " Subaru WRX sti :\n",
      "This Car has a Good HP in 4 cylinder cars\n",
      "This is a Vintage Car\n",
      "This Car is suitable for racing.\n"
     ]
    }
   ],
   "source": [
    "# Task No. 5\n",
    "class car():\n",
    "    def __init__(self,name,model,color,transmission,HP):\n",
    "        self.model = model\n",
    "        self.color = color\n",
    "        self.name = name\n",
    "        self.transmission = transmission\n",
    "        self.HP = HP\n",
    "    \n",
    "    def goodHP(self):\n",
    "        if self.HP <= 150:\n",
    "            print('This Car has an Okay HP in 4 cylinder cars')\n",
    "        elif self.HP > 150:\n",
    "            print('This Car has a Good HP in 4 cylinder cars')\n",
    "    \n",
    "    def newModel(self):\n",
    "        if self.model < 2005:\n",
    "            print('This is a Vintage Car')\n",
    "        if self.model >= 2005 and self.model <= 2012:\n",
    "            print('This is a Middle aged Car')\n",
    "        if self.model > 2012:\n",
    "            print('This is a Modern Car')\n",
    "    \n",
    "    def raceCar(self):\n",
    "        if self.transmission == 'Auto':\n",
    "            print('This Car is not suitable for a racing.')\n",
    "        if self.transmission == 'Manual':\n",
    "            print('This Car is suitable for racing.')\n",
    "\n",
    "car1 = car('Lancer Evo X',2016,'Red','Manual',360)\n",
    "car2 = car('Honda Civic 1.8 Oriel',2019,'White','Auto',138)\n",
    "car3 = car('Subaru WRX sti',1996,'White','Manual',276)\n",
    "\n",
    "print(car1.name,':')\n",
    "car1.goodHP()\n",
    "car1.newModel()\n",
    "car1.raceCar()\n",
    "print('\\n',car2.name,':')\n",
    "car2.goodHP()\n",
    "car2.newModel()\n",
    "car2.raceCar()\n",
    "print('\\n',car3.name,':')\n",
    "car3.goodHP()\n",
    "car3.newModel()\n",
    "car3.raceCar()"
   ]
  },
  {
   "cell_type": "code",
   "execution_count": null,
   "metadata": {},
   "outputs": [],
   "source": []
  }
 ],
 "metadata": {
  "kernelspec": {
   "display_name": "Python 3",
   "language": "python",
   "name": "python3"
  },
  "language_info": {
   "codemirror_mode": {
    "name": "ipython",
    "version": 3
   },
   "file_extension": ".py",
   "mimetype": "text/x-python",
   "name": "python",
   "nbconvert_exporter": "python",
   "pygments_lexer": "ipython3",
   "version": "3.7.4"
  }
 },
 "nbformat": 4,
 "nbformat_minor": 2
}
